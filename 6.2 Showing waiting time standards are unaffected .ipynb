{
 "cells": [
  {
   "cell_type": "markdown",
   "id": "238ffad4",
   "metadata": {},
   "source": [
    "### Section 2.1 \n",
    "\n",
    "It is of much use to us to firstly consider in this project when data may or may not be similar. Often we will look to identify whether key events have shifted the waiting times landscape in some sort of way, and for this will have to rule out the possibility that the data itself is unaffected. A motivating example is that of COVID-19. It is pretty common knowledge that the NHS Scotland during the earlier days of the pandemic had to suspend many operations and procedures. Therefore one might expect the data around waiting times to look different before and after the March 2020 mark. \n",
    "\n",
    "An interesting way to approach this is the usage of the Wilcoxon signed-rank test. This is a test which look to address the null-hypothesis that two related pairs of samples come from the same distribution. In order to do this it looks to see whether the distribution of differences between two sets of data is symmetric about 0. It is relatively comparable to the Student's t-test \\cite{INSERTREF}, except there are no assumptions of normality about the data. \n",
    "\n",
    "Mathematically the test procedure is as follows:\n",
    "\n",
    "Pair data to create n-samples as $(X_{1}, Y_{1}), ..., (X_{n}, Y_{n}).$\n",
    "\n",
    "$H_{0}$: The observations $(X_{i}, Y_{i})$ are exchangable, meaning $(X_{i}, Y_{i})$ and $(Y_{i}, X_{i})$ have the same distribution. \n",
    "\n",
    "$H_{1}$: For some $\\mu \\neq 0$, the pairs $(X_{i}, Y_{i})$ and $(Y_{i}+\\mu, X_{i}-\\mu)$ have the same distribution.\n",
    "\n",
    "--------------------------------------------\n"
   ]
  },
  {
   "cell_type": "markdown",
   "id": "2c05fc58",
   "metadata": {},
   "source": [
    "### Section 6.2\n",
    "\n",
    "Within the reports published by PHS, it can be seen by eye that the 31-day standards and 62-day standards are relatively unaffected by the time period around COVID. That is to say pretty consistently 95% of referalls are still starting their first treatment 31 days within a decision to treat, whilst just under 95% consistently miss starting their first treatment within 62 days of suspcion of cancer.\n",
    "\n",
    "This might seem odd at first to anyone, since there is a common societiel expectation that cancer waiting times were affected by the pandemic. However if you start to consider what the standards tell us, you soon realise that they have no way of identifying how many people were in the system in the first place who could meet the standards. Therefore it was our belief that we should firstly prove mathematically that the standards are unchanged and then from this deduce that the affliction of COVID-19 on the waiting times landscape doesn't come from the treatment part of the pathway but instead the referalls section.\n",
    "\n",
    "In order to firstly prove that the waiting time standards are unaffected we look to run a Wilcoxon signed-rank test. The details of the test can be found in the earlier \\ref{Sec:HypTesting}. For the Wilcoxon test, our two sets of data must be of equal length in order to be paired. Having 6 data points after the start of COVID-19 (2020Q2 - 2021Q3), we take 6 points prior to compare with (2018Q3 - 2020Q1).\n",
    "\n",
    "---------------------------------\n",
    "\n"
   ]
  },
  {
   "cell_type": "markdown",
   "id": "ecd7c6ad",
   "metadata": {},
   "source": [
    "Below is the code necessary for getting the data into the correct format (uses open data - to be replaced later when necessary)."
   ]
  },
  {
   "cell_type": "code",
   "execution_count": 1,
   "id": "61fa046a",
   "metadata": {},
   "outputs": [],
   "source": [
    "import pandas as pd\n",
    "import matplotlib.pyplot as plt"
   ]
  },
  {
   "cell_type": "code",
   "execution_count": 2,
   "id": "56e0560f",
   "metadata": {},
   "outputs": [],
   "source": [
    "def ReigonTypeQuarterSelector(myData, reigonCode, cancerType, rows):\n",
    "    typeData = myData[myData['CancerType']== cancerType]\n",
    "    reigonalData = typeData[typeData['HB'] == reigonCode]\n",
    "    \n",
    "    aggregation_functions = {'Quarter':'first', 'HB': 'first', 'CancerType': 'first', rows[0]: 'sum', rows[1]: 'sum'}\n",
    "    reigonalData = reigonalData.groupby(reigonalData['Quarter'], as_index=False).aggregate(aggregation_functions)\n",
    "\n",
    "    x = reigonalData[\"Quarter\"]\n",
    "    y = reigonalData[rows[0]]\n",
    "    y2 = reigonalData[rows[1]]\n",
    "    \n",
    "    return x, y, y2"
   ]
  },
  {
   "cell_type": "code",
   "execution_count": 3,
   "id": "f2c32d0b",
   "metadata": {},
   "outputs": [],
   "source": [
    "fullData_31 = pd.read_csv(\"31DayData.csv\")\n",
    "myData_31 = fullData_31[['Quarter', 'HB', 'HBT', 'CancerType','NumberOfEligibleReferrals31DayStandard','NumberOfEligibleReferralsTreatedWithin31Days']]\n",
    "\n",
    "fullData_62 = pd.read_csv(\"62DayData.csv\")\n",
    "myData_62 = fullData_62[['Quarter', 'HB', 'HBT', 'CancerType','NumberOfEligibleReferrals62DayStandard','NumberOfEligibleReferralsTreatedWithin62Days']]"
   ]
  },
  {
   "cell_type": "code",
   "execution_count": 24,
   "id": "c0043f59",
   "metadata": {},
   "outputs": [
    {
     "data": {
      "image/png": "[encoded data removed]",
      "text/plain": [
       "<Figure size 1332x576 with 1 Axes>"
      ]
     },
     "metadata": {
      "needs_background": "light"
     },
     "output_type": "display_data"
    }
   ],
   "source": [
    "Reigons = ['S08000015', 'S08000016', 'S08000017', 'S08000019', 'S08000020', 'S08000022', 'S08000024', 'S08000025', 'S08000026', 'S08000028', 'S08000029', 'S08000030', 'S08000031', 'S08000032']\n",
    "\n",
    "fig, d1 = plt.subplots(1, 1, sharey=True)\n",
    "\n",
    "avg_regions_31 = 0\n",
    "avg_regions_62 = 0\n",
    "\n",
    "for i in Reigons:\n",
    "    x, y, y2 = ReigonTypeQuarterSelector(myData_31, i, 'All Cancer Types', ['NumberOfEligibleReferrals31DayStandard','NumberOfEligibleReferralsTreatedWithin31Days'])\n",
    "    avg_regions_31 += y2/y\n",
    "    x, y, y2 = ReigonTypeQuarterSelector(myData_62, i, 'All Cancer Types', ['NumberOfEligibleReferrals62DayStandard','NumberOfEligibleReferralsTreatedWithin62Days'])\n",
    "    avg_regions_62 += y2/y\n",
    "\n",
    "d1.plot([0,38], [0.95,0.95], 'k--')\n",
    "\n",
    "points_31 = avg_regions_31/len(Reigons)\n",
    "points_62 = avg_regions_62/len(Reigons)\n",
    "\n",
    "d1.plot(x, points_31, 'o-')\n",
    "d1.plot(x, points_62, 'o-')\n",
    "\n",
    "d1.plot([32.5,32.5], [0,1], color='r', linewidth=3)\n",
    "d1.set_xlim(left=27)\n",
    "\n",
    "\n",
    "every_nth = 4\n",
    "for n, label in enumerate(d1.xaxis.get_ticklabels()):\n",
    "    if n % every_nth != 0:\n",
    "        label.set_visible(False)\n",
    "        \n",
    "fig.set_size_inches(18.5, 8, forward=True)\n",
    "fig.tight_layout(pad=5.0) \n",
    "plt.show()"
   ]
  },
  {
   "cell_type": "code",
   "execution_count": 17,
   "id": "59164e92",
   "metadata": {},
   "outputs": [],
   "source": [
    "precov_31 = points_31[27:33]\n",
    "postcov_31 = points_31[33:]\n",
    "\n",
    "precov_62 = points_62[27:33]\n",
    "postcov_62 = points_62[33:]"
   ]
  },
  {
   "cell_type": "code",
   "execution_count": 27,
   "id": "f8297030",
   "metadata": {},
   "outputs": [
    {
     "name": "stdout",
     "output_type": "stream",
     "text": [
      "WilcoxonResult(statistic=3.0, pvalue=0.15625)\n",
      "WilcoxonResult(statistic=9.0, pvalue=0.84375)\n"
     ]
    }
   ],
   "source": [
    "from scipy import stats\n",
    "\n",
    "test1 = stats.wilcoxon(precov_31, postcov_31, alternative='two-sided')\n",
    "print(test1)\n",
    "\n",
    "test2 = stats.wilcoxon(precov_62, postcov_62)\n",
    "print(test2)"
   ]
  }
 ],
 "metadata": {
  "kernelspec": {
   "display_name": "Python 3",
   "language": "python",
   "name": "python3"
  },
  "language_info": {
   "codemirror_mode": {
    "name": "ipython",
    "version": 3
   },
   "file_extension": ".py",
   "mimetype": "text/x-python",
   "name": "python",
   "nbconvert_exporter": "python",
   "pygments_lexer": "ipython3",
   "version": "3.8.8"
  }
 },
 "nbformat": 4,
 "nbformat_minor": 5
}
