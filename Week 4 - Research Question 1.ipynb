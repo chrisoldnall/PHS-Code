{
 "cells": [
  {
   "cell_type": "markdown",
   "id": "1e1f3a45",
   "metadata": {},
   "source": [
    "# Research Question 1\n",
    "## How has COVID-19 affected the cancer waiting times landscape?\n",
    "\n",
    "This week we will start to try and determine the following:\n",
    "> 1. Clean up the data in order to be able to compare different 'stuff'. - Sofie\n",
    "\n",
    "> 2. The standard of those who meet the standard is relatively unaffected. [Hypothesis testing] - Xell\n",
    "\n",
    "> 3. There has been a drop in the number of referals. [Hypothesis Testing vs Changepoint] - Chris\n",
    "\n",
    "> 4. As well as this there has been a change in diagnostic rates due to COVID-19 in line with the change in the number of referals. [High-dimensional Changepoint vs GLM] - Xell/Sofie/Chris"
   ]
  },
  {
   "cell_type": "markdown",
   "id": "6a4e037d",
   "metadata": {},
   "source": [
    "### Groupings of Regions\n",
    "1. By HB\n",
    "2. By NOSCAN, WOSCAN, SCAN\n",
    "3. All of Scotland"
   ]
  },
  {
   "cell_type": "markdown",
   "id": "709a0552",
   "metadata": {},
   "source": [
    "### Groupings of Cancers\n",
    "1. Try completely seperate.\n",
    "2. If data issues group by similar features. "
   ]
  },
  {
   "cell_type": "markdown",
   "id": "6e644aff",
   "metadata": {},
   "source": [
    "### Grouping by Times\n",
    "Monthly - try to translate any data into this format where necessary."
   ]
  },
  {
   "cell_type": "markdown",
   "id": "a96d6026",
   "metadata": {},
   "source": [
    "----------------------------------------\n",
    "\n",
    "### Ideas for approaching 1.\n"
   ]
  },
  {
   "cell_type": "code",
   "execution_count": null,
   "id": "68989370",
   "metadata": {},
   "outputs": [],
   "source": []
  },
  {
   "cell_type": "markdown",
   "id": "02a9240f",
   "metadata": {},
   "source": [
    "Code for 1."
   ]
  },
  {
   "cell_type": "code",
   "execution_count": null,
   "id": "9cbaf9d6",
   "metadata": {},
   "outputs": [],
   "source": []
  },
  {
   "cell_type": "markdown",
   "id": "b77e7d21",
   "metadata": {},
   "source": [
    "----------------------------------------\n",
    "\n",
    "### Ideas for approaching 2."
   ]
  },
  {
   "cell_type": "code",
   "execution_count": null,
   "id": "b537ff0b",
   "metadata": {},
   "outputs": [],
   "source": []
  },
  {
   "cell_type": "markdown",
   "id": "de93bad8",
   "metadata": {},
   "source": [
    "Code for 2."
   ]
  },
  {
   "cell_type": "code",
   "execution_count": null,
   "id": "1f7c7839",
   "metadata": {},
   "outputs": [],
   "source": []
  },
  {
   "cell_type": "markdown",
   "id": "339ac892",
   "metadata": {},
   "source": [
    "----------------------------------------\n",
    "\n",
    "### Ideas for approaching 3."
   ]
  },
  {
   "cell_type": "code",
   "execution_count": null,
   "id": "96e201d8",
   "metadata": {},
   "outputs": [],
   "source": []
  },
  {
   "cell_type": "markdown",
   "id": "8ba68ee1",
   "metadata": {},
   "source": [
    "Code for 3."
   ]
  },
  {
   "cell_type": "code",
   "execution_count": null,
   "id": "69f9d349",
   "metadata": {},
   "outputs": [],
   "source": []
  },
  {
   "cell_type": "markdown",
   "id": "1996781e",
   "metadata": {},
   "source": [
    "----------------------------------------\n",
    "\n",
    "### Ideas for approaching 4."
   ]
  },
  {
   "cell_type": "code",
   "execution_count": null,
   "id": "0a2345e0",
   "metadata": {},
   "outputs": [],
   "source": []
  },
  {
   "cell_type": "markdown",
   "id": "58f05293",
   "metadata": {},
   "source": [
    "Code for 4."
   ]
  },
  {
   "cell_type": "code",
   "execution_count": null,
   "id": "cc1c3dba",
   "metadata": {},
   "outputs": [],
   "source": []
  }
 ],
 "metadata": {
  "kernelspec": {
   "display_name": "Python 3",
   "language": "python",
   "name": "python3"
  },
  "language_info": {
   "codemirror_mode": {
    "name": "ipython",
    "version": 3
   },
   "file_extension": ".py",
   "mimetype": "text/x-python",
   "name": "python",
   "nbconvert_exporter": "python",
   "pygments_lexer": "ipython3",
   "version": "3.8.8"
  }
 },
 "nbformat": 4,
 "nbformat_minor": 5
}
